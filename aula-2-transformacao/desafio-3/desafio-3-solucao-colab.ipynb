{
  "nbformat": 4,
  "nbformat_minor": 0,
  "metadata": {
    "kernelspec": {
      "display_name": "Python 3",
      "language": "python",
      "name": "python3"
    },
    "language_info": {
      "codemirror_mode": {
        "name": "ipython",
        "version": 3
      },
      "file_extension": ".py",
      "mimetype": "text/x-python",
      "name": "python",
      "nbconvert_exporter": "python",
      "pygments_lexer": "ipython3",
      "version": "3.6.10"
    },
    "colab": {
      "name": "desafio-3-solucao-colab.ipynb",
      "provenance": [],
      "include_colab_link": true
    }
  },
  "cells": [
    {
      "cell_type": "markdown",
      "metadata": {
        "id": "view-in-github",
        "colab_type": "text"
      },
      "source": [
        "<a href=\"https://colab.research.google.com/github/tpessoa-dev/fiap-ml-visao-computacional/blob/master/aula-2-transformacao/desafio-3/desafio-3-solucao-colab.ipynb\" target=\"_parent\"><img src=\"https://colab.research.google.com/assets/colab-badge.svg\" alt=\"Open In Colab\"/></a>"
      ]
    },
    {
      "cell_type": "markdown",
      "metadata": {
        "id": "GWRS15_T5uAv"
      },
      "source": [
        "## Classificador de imagens de dia e noite\n",
        "\n",
        "> Atenção: este notebook foi desenhado para funcionar no **Google Colab**. Se pretende executar localmente prefira a versão local deste notebook, sem o sufixo ```-colab```.\n",
        "\n",
        "\n",
        "Utilizando o conjunto de imagens do dataset do projeto [AMOS](http://cs.uky.edu/~jacobs/datasets/amos/) (Archive of Many Outdoor Scenes), construir um classificador de imagens que dado uma determinada imagem deverá ser capaz em classificar em _dia_ ou _noite_.\n",
        "\n",
        "Para este modelo, será levado em consideração como principal característica seu respectivo valor de brilho.\n",
        "\n",
        "Exemplos de imagens disponíveis na pasta _imagens_.\n",
        "\n",
        "_Dia_\n",
        "![alt text](https://github.com/tpessoa-dev/fiap-ml-visao-computacional/blob/master/aula-2-transformacao/desafio-3/imagens/test/day/20151101_152050.jpg?raw=1)\n",
        "\n",
        "_Noite_\n",
        "![alt text](https://github.com/tpessoa-dev/fiap-ml-visao-computacional/blob/master/aula-2-transformacao/desafio-3/imagens/test/night/20151101_072507.jpg?raw=1)\n",
        "\n",
        "## 1. Requerimentos\n",
        "\n",
        "Todas as bibliotecas já estão instaladas no Google Colab.\n",
        "\n",
        "* OpenCV >= 3.4.3\n",
        "* Matplotlib >= 3.1.3\n",
        "* Seaborn >= 0.0.10\n",
        "* Numpy >= 1.18.1\n",
        "\n",
        "### 1.2 Arquivos\n",
        "\n",
        "Baixe o repositório do GitHub utilizando o comando abaixo. Em caso de atualização, utilize o comando para apagar o diretório antes."
      ]
    },
    {
      "cell_type": "code",
      "metadata": {
        "id": "PfTyoJBF5uAz"
      },
      "source": [
        "!rm -rf fiap-ml-visao-computacional/"
      ],
      "execution_count": null,
      "outputs": []
    },
    {
      "cell_type": "code",
      "metadata": {
        "id": "dE9m_s8K5uA0"
      },
      "source": [
        "!git clone https://github.com/michelpf/fiap-ml-visao-computacional"
      ],
      "execution_count": null,
      "outputs": []
    },
    {
      "cell_type": "markdown",
      "metadata": {
        "id": "hzWcPl9a5uA0"
      },
      "source": [
        "Vamos agora posicionar o diretório do repositório para a aula respectiva. Nesse caso envie o comando de mudança de diretório"
      ]
    },
    {
      "cell_type": "code",
      "metadata": {
        "id": "_C1KvWHv5uA1"
      },
      "source": [
        "%cd fiap-ml-visao-computacional/aula-2-transformacao/desafio-3/"
      ],
      "execution_count": null,
      "outputs": []
    },
    {
      "cell_type": "markdown",
      "metadata": {
        "id": "uR01iwpn5uA1"
      },
      "source": [
        "## 2. Principais atividades do _pipeline_\n",
        "\n",
        "1. Normalizar\n",
        "2. Extrair características\n",
        "3. Construir classificador\n",
        "4. Testar o modelo\n",
        "\n",
        "*Adaptado deste [repositório](https://github.com/udacity/CVND_Exercises/blob/master/1_1_Image_Representation) de Visão Computacional da Udacity, de Cezanne Camacho.*"
      ]
    },
    {
      "cell_type": "code",
      "metadata": {
        "id": "ZdTuyvvN5uA2"
      },
      "source": [
        "import os\n",
        "import glob\n",
        "import cv2\n",
        "import numpy as np\n",
        "import matplotlib.pyplot as plt\n",
        "import matplotlib.image as mpimg\n",
        "%matplotlib inline\n",
        "\n",
        "from sklearn.model_selection import cross_val_score\n",
        "from sklearn.tree import DecisionTreeClassifier\n",
        "from sklearn.metrics import plot_confusion_matrix"
      ],
      "execution_count": null,
      "outputs": []
    },
    {
      "cell_type": "code",
      "metadata": {
        "id": "qoR_h9cj5uA2"
      },
      "source": [
        "def carregar_arquivos(image_dir):\n",
        "    \n",
        "    im_list = []\n",
        "    image_types = [\"day\", \"night\"]\n",
        "    \n",
        "    for im_type in image_types:\n",
        "        \n",
        "        for file in glob.glob(os.path.join(image_dir, im_type, \"*\")):\n",
        "            \n",
        "            im = cv2.imread(file)\n",
        "            im = cv2.cvtColor(im, cv2.COLOR_BGR2RGB)\n",
        "            \n",
        "            if not im is None:\n",
        "                im_list.append((im, im_type))\n",
        "    \n",
        "    return im_list"
      ],
      "execution_count": null,
      "outputs": []
    },
    {
      "cell_type": "code",
      "metadata": {
        "id": "pQ7iS7Ax5uA3"
      },
      "source": [
        "lista_imagens_teste = carregar_arquivos(\"imagens/test\")\n",
        "lista_imagens_treinamento = carregar_arquivos(\"imagens/training\")"
      ],
      "execution_count": null,
      "outputs": []
    },
    {
      "cell_type": "markdown",
      "metadata": {
        "id": "aK0eQRNV5uA3"
      },
      "source": [
        "## 3. Normalização\n",
        "\n",
        "Constuir uma função que receberá uma imagem e redimensionará para o tamanho 1000 x 600.\n",
        "\n",
        "Esta a seguir possui 700 de altura 1300 de comprimento."
      ]
    },
    {
      "cell_type": "code",
      "metadata": {
        "id": "arjfpr2H5uA4"
      },
      "source": [
        "plt.imshow(lista_imagens_treinamento[200][0])\n",
        "plt.title(lista_imagens_treinamento[200][1])"
      ],
      "execution_count": null,
      "outputs": []
    },
    {
      "cell_type": "markdown",
      "metadata": {
        "id": "0QzDruwD5uA5"
      },
      "source": [
        "\n",
        "Já esta nova imagem é menor, possuindo 350 x 650 pixels."
      ]
    },
    {
      "cell_type": "code",
      "metadata": {
        "id": "6qldX8Fm5uA6"
      },
      "source": [
        "plt.imshow(lista_imagens_treinamento[0][0])\n",
        "plt.title(lista_imagens_treinamento[0][1])"
      ],
      "execution_count": null,
      "outputs": []
    },
    {
      "cell_type": "code",
      "metadata": {
        "id": "hgJZBqNj5uA6"
      },
      "source": [
        "def padronizar_imagem(imagem):\n",
        "    imagem_padrao = cv2.resize(imagem, (1000, 600), interpolation = cv2.INTER_LANCZOS4)\n",
        "    \n",
        "    return imagem_padrao"
      ],
      "execution_count": null,
      "outputs": []
    },
    {
      "cell_type": "markdown",
      "metadata": {
        "id": "oMSiq17k5uA6"
      },
      "source": [
        "## 4. Extração de características\n",
        "\n",
        "Para cada imagem analisada, extrair o componente de brilho médio associado."
      ]
    },
    {
      "cell_type": "code",
      "metadata": {
        "id": "C2lwe7zf5uA7"
      },
      "source": [
        "def extrair_brilho_medio(imagem):\n",
        "    hsv = cv2.cvtColor(imagem, cv2.COLOR_RGB2HSV)\n",
        "    \n",
        "    soma_brilho = np.sum(hsv[:,:,2])\n",
        "    area = imagem.shape[0]*imagem.shape[1]\n",
        "    \n",
        "    media_brilho = soma_brilho/area\n",
        "    \n",
        "    return media_brilho"
      ],
      "execution_count": null,
      "outputs": []
    },
    {
      "cell_type": "markdown",
      "metadata": {
        "id": "veTMok-K5uA7"
      },
      "source": [
        "Agora vamos construir uma lista com todas as imagens e seus brilhos médios extraídos. Vamos também rotular as imagens utilizando hot-enconding, sendo 1 para dia e 0 para noite."
      ]
    },
    {
      "cell_type": "code",
      "metadata": {
        "id": "TgCZBOpZ5uA7"
      },
      "source": [
        "def extrair_caracteristica_imagem(lista_imagem):\n",
        "    \n",
        "    lista_imagem_padrao = []\n",
        "    \n",
        "    for imagem_dados in lista_imagem:\n",
        "        imagem = imagem_dados[0]\n",
        "        label = imagem_dados[1]\n",
        "        \n",
        "        imagem_redimensionada = padronizar_imagem(imagem)\n",
        "        \n",
        "        brilho_medio = extrair_brilho_medio(imagem_redimensionada)\n",
        "        \n",
        "        if label == \"day\":\n",
        "            label_encoded = 1\n",
        "        else:\n",
        "            label_encoded = 0\n",
        "        \n",
        "        lista_imagem_padrao.append((brilho_medio, label_encoded))\n",
        "    \n",
        "    return lista_imagem_padrao"
      ],
      "execution_count": null,
      "outputs": []
    },
    {
      "cell_type": "markdown",
      "metadata": {
        "id": "ibR_nzTO5uA8"
      },
      "source": [
        "Testando a rotulação de imagem e padronização."
      ]
    },
    {
      "cell_type": "code",
      "metadata": {
        "id": "Ncg02vh35uA8"
      },
      "source": [
        "plt.imshow(padronizar_imagem(lista_imagens_treinamento[0][0]))\n",
        "plt.title(lista_imagens_treinamento[0][1])"
      ],
      "execution_count": null,
      "outputs": []
    },
    {
      "cell_type": "code",
      "metadata": {
        "id": "sZri07CJ5uA9"
      },
      "source": [
        "plt.imshow(padronizar_imagem(lista_imagens_treinamento[200][0]))\n",
        "plt.title(lista_imagens_treinamento[200][1])"
      ],
      "execution_count": null,
      "outputs": []
    },
    {
      "cell_type": "markdown",
      "metadata": {
        "id": "vbzaRbJF5uA9"
      },
      "source": [
        "Obtendo as características de ambos os grupos de imagens, treinamento e testes."
      ]
    },
    {
      "cell_type": "code",
      "metadata": {
        "id": "DslC_NFQ5uA-"
      },
      "source": [
        "lista_padronizada_treinamento = extrair_caracteristica_imagem(lista_imagens_treinamento)\n",
        "lista_padronizada_teste = extrair_caracteristica_imagem(lista_imagens_teste)"
      ],
      "execution_count": null,
      "outputs": []
    },
    {
      "cell_type": "markdown",
      "metadata": {
        "id": "7uOr0AHR5uA-"
      },
      "source": [
        "## 5. Construção do classificador\n",
        "\n",
        "Desenvolver um modelo de aprendizado de máquina que seja capaz de classificar adequadamente, com no mínimo 90% de acurácia, as imagens que representam o dia e a noite."
      ]
    },
    {
      "cell_type": "code",
      "metadata": {
        "id": "7lEmQVpI5uA-"
      },
      "source": [
        "classificador_decision_tree = DecisionTreeClassifier(random_state=0)"
      ],
      "execution_count": null,
      "outputs": []
    },
    {
      "cell_type": "markdown",
      "metadata": {
        "id": "5NoJjyrR5uA-"
      },
      "source": [
        "A função a seguir é para padronizar a forma que o ``ScikitLearn`` obtém os dados, separando o que é classe (Y) do que é feature (X)."
      ]
    },
    {
      "cell_type": "code",
      "metadata": {
        "id": "egxi5YO25uA_"
      },
      "source": [
        "def definicao_feature_class(lista_padronizada):\n",
        "    X = []\n",
        "    Y = []\n",
        "\n",
        "    for item in lista_padronizada:\n",
        "        X.append(item[0])\n",
        "        Y.append(item[1])\n",
        "\n",
        "    X = np.array(X).reshape(-1, 1)\n",
        "    Y = np.array(Y).reshape(-1, 1)\n",
        "\n",
        "    return X, Y"
      ],
      "execution_count": null,
      "outputs": []
    },
    {
      "cell_type": "code",
      "metadata": {
        "id": "_ghf_Uoa5uA_"
      },
      "source": [
        "X, Y = definicao_feature_class(lista_padronizada_treinamento)"
      ],
      "execution_count": null,
      "outputs": []
    },
    {
      "cell_type": "code",
      "metadata": {
        "id": "Ldz0VSJ75uBA"
      },
      "source": [
        "classificador_decision_tree.fit(X, Y)"
      ],
      "execution_count": null,
      "outputs": []
    },
    {
      "cell_type": "markdown",
      "metadata": {
        "id": "zF7fmBx45uBA"
      },
      "source": [
        "Testando algumas classificações."
      ]
    },
    {
      "cell_type": "code",
      "metadata": {
        "id": "SkFs6JCa5uBD"
      },
      "source": [
        "plt.imshow(padronizar_imagem(lista_imagens_treinamento[0][0]))\n",
        "plt.title(lista_imagens_treinamento[0][1])"
      ],
      "execution_count": null,
      "outputs": []
    },
    {
      "cell_type": "code",
      "metadata": {
        "id": "WQzxKWYo5uBE"
      },
      "source": [
        "classificador_decision_tree.predict([[lista_padronizada_treinamento[0][0]]])"
      ],
      "execution_count": null,
      "outputs": []
    },
    {
      "cell_type": "code",
      "metadata": {
        "id": "kT0IDV3k5uBE"
      },
      "source": [
        "plt.imshow(padronizar_imagem(lista_imagens_treinamento[150][0]))\n",
        "plt.title(lista_imagens_treinamento[150][1])"
      ],
      "execution_count": null,
      "outputs": []
    },
    {
      "cell_type": "code",
      "metadata": {
        "id": "Vd4k07m15uBE"
      },
      "source": [
        "classificador_decision_tree.predict([[lista_padronizada_treinamento[150][0]]])"
      ],
      "execution_count": null,
      "outputs": []
    },
    {
      "cell_type": "markdown",
      "metadata": {
        "id": "y26-HZ7m5uBF"
      },
      "source": [
        "## 6. Teste do modelo\n",
        "\n",
        "Dado o conjunto de testes, verificar a acurácia do modelo."
      ]
    },
    {
      "cell_type": "code",
      "metadata": {
        "id": "yhlLfP5p5uBF"
      },
      "source": [
        "from sklearn.metrics import accuracy_score\n",
        "from sklearn.metrics import confusion_matrix\n",
        "\n",
        "X_test, Y_test = definicao_feature_class(lista_padronizada_teste)\n",
        "Y_pred = classificador_decision_tree.predict(X_test)"
      ],
      "execution_count": null,
      "outputs": []
    },
    {
      "cell_type": "markdown",
      "metadata": {
        "id": "TezbR-N35uBF"
      },
      "source": [
        "## 6.1 Precisão\n",
        "\n",
        "Calcular a precisão do modelo com base os dados de teste."
      ]
    },
    {
      "cell_type": "code",
      "metadata": {
        "id": "e8_8NnQt5uBF"
      },
      "source": [
        "accuracy_score(Y_test,Y_pred)*100"
      ],
      "execution_count": null,
      "outputs": []
    },
    {
      "cell_type": "markdown",
      "metadata": {
        "id": "ntfFD31q5uBG"
      },
      "source": [
        "## 6.2 Matriz de confusão\n",
        "\n",
        "Calcular a matriz de confusão do modelo, levando em consideração os dados de teste."
      ]
    },
    {
      "cell_type": "code",
      "metadata": {
        "id": "gs-E9SjD5uBG"
      },
      "source": [
        "confusion_matrix(Y_test, Y_pred)"
      ],
      "execution_count": null,
      "outputs": []
    },
    {
      "cell_type": "code",
      "metadata": {
        "id": "MyHOK9gS5uBG"
      },
      "source": [
        "disp = plot_confusion_matrix(classificador_decision_tree, X_test, Y_test,\n",
        "                                 display_labels=[\"dia\", \"noite\"],\n",
        "                                 cmap=plt.cm.Blues)\n",
        "plt.show()"
      ],
      "execution_count": null,
      "outputs": []
    }
  ]
}